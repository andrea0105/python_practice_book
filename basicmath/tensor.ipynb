{
 "cells": [
  {
   "cell_type": "code",
   "execution_count": 14,
   "id": "adc7de50",
   "metadata": {},
   "outputs": [
    {
     "name": "stdout",
     "output_type": "stream",
     "text": [
      "[[100.           0.71518937   0.60276338]\n",
      " [  0.54488318   0.4236548    0.64589411]] float64\n",
      "tensor([[0.5488, 0.7152, 0.6028],\n",
      "        [0.5449, 0.4237, 0.6459]], dtype=torch.float64) torch.float64 False\n",
      "tensor([[100.0000,   0.7152,   0.6028],\n",
      "        [  0.5449,   0.4237,   0.6459]], dtype=torch.float64) torch.float64 False\n",
      "tensor([[0.5488, 0.7152, 0.6028],\n",
      "        [0.5449, 0.4237, 0.6459]]) torch.float32 False\n",
      "tensor([[100.0000,   0.7152,   0.6028],\n",
      "        [  0.5449,   0.4237,   0.6459]], dtype=torch.float64) torch.float64 False\n",
      "tensor([[0.5488, 0.7152, 0.6028],\n",
      "        [0.5449, 0.4237, 0.6459]], dtype=torch.float64, requires_grad=True) torch.float64 True\n"
     ]
    }
   ],
   "source": [
    "import numpy as np\n",
    "import torch\n",
    "\n",
    "np.random.seed(0)\n",
    "\n",
    "x = np.random.rand(6).reshape(2,3)\n",
    "\n",
    "x_tensor = torch.tensor(x)\n",
    "x_from_numpy = torch.from_numpy(x)\n",
    "x_Tensor = torch.Tensor(x)\n",
    "x_as_tensor = torch.as_tensor(x)\n",
    "x_tensor_grad = torch.tensor(x, requires_grad=True)\n",
    "\n",
    "x[0,0] = 100\n",
    "\n",
    "print(x, x.dtype)\n",
    "\n",
    "print(x_tensor, x_tensor.dtype, x_tensor.requires_grad)\n",
    "\n",
    "print(x_from_numpy, x_from_numpy.dtype, x_from_numpy.requires_grad)\n",
    "\n",
    "print(x_Tensor, x_Tensor.dtype, x_Tensor.requires_grad)\n",
    "\n",
    "print(x_as_tensor, x_as_tensor.dtype, x_as_tensor.requires_grad)\n",
    "\n",
    "print(x_tensor_grad, x_tensor_grad.dtype, x_tensor_grad.requires_grad)"
   ]
  },
  {
   "cell_type": "code",
   "execution_count": null,
   "id": "18a845d4",
   "metadata": {},
   "outputs": [],
   "source": []
  }
 ],
 "metadata": {
  "kernelspec": {
   "display_name": "Python 3",
   "language": "python",
   "name": "python3"
  },
  "language_info": {
   "codemirror_mode": {
    "name": "ipython",
    "version": 3
   },
   "file_extension": ".py",
   "mimetype": "text/x-python",
   "name": "python",
   "nbconvert_exporter": "python",
   "pygments_lexer": "ipython3",
   "version": "3.8.11"
  }
 },
 "nbformat": 4,
 "nbformat_minor": 5
}
